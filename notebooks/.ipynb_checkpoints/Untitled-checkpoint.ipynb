{
 "cells": [
  {
   "cell_type": "code",
   "execution_count": 5,
   "id": "9f4b4175-8c7a-4b36-a449-3915ea3c078e",
   "metadata": {},
   "outputs": [],
   "source": [
    ":dep plotters = { version = \"0.3.3\", default_features = false, features = [\"evcxr\"] }"
   ]
  },
  {
   "cell_type": "code",
   "execution_count": 6,
   "id": "28913a3b-cfbf-4ac8-932f-d4bf57eced5a",
   "metadata": {},
   "outputs": [],
   "source": [
    "use plotters::prelude::*;"
   ]
  },
  {
   "cell_type": "code",
   "execution_count": 9,
   "id": "57810f09-6770-4a4b-b595-b6753db9b572",
   "metadata": {},
   "outputs": [
    {
     "data": {
      "text/html": [
       "<div style=\"\"><svg width=\"300\" height=\"100\" viewBox=\"0 0 300 100\" xmlns=\"http://www.w3.org/2000/svg\">\n",
       "<rect x=\"0\" y=\"0\" width=\"300\" height=\"100\" opacity=\"1\" fill=\"#0000FF\" stroke=\"none\"/>\n",
       "</svg>\n",
       "</div>"
      ]
     },
     "execution_count": 9,
     "metadata": {},
     "output_type": "execute_result"
    }
   ],
   "source": [
    "evcxr_figure((680, 480), |root| {\n",
    "    let mut chart = ChartBuilder::on(&root)\n",
    "        .build_cartesian_2d([0,1,2,3,4,5], [0,1,2,3,4,5])?;\n",
    "})"
   ]
  },
  {
   "cell_type": "code",
   "execution_count": null,
   "id": "f3cf1126-72c9-4501-b90f-a25ffa9168d5",
   "metadata": {},
   "outputs": [],
   "source": []
  }
 ],
 "metadata": {
  "kernelspec": {
   "display_name": "Rust",
   "language": "rust",
   "name": "rust"
  },
  "language_info": {
   "codemirror_mode": "rust",
   "file_extension": ".rs",
   "mimetype": "text/rust",
   "name": "Rust",
   "pygment_lexer": "rust",
   "version": ""
  }
 },
 "nbformat": 4,
 "nbformat_minor": 5
}
