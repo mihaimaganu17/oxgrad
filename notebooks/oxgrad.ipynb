{
 "cells": [
  {
   "cell_type": "code",
   "execution_count": 35,
   "id": "8ac2601f-c5ed-42d0-b344-cdbc940fbe5a",
   "metadata": {},
   "outputs": [
    {
     "ename": "Error",
     "evalue": "this function takes 4 arguments but 3 arguments were supplied",
     "output_type": "error",
     "traceback": [
      "\u001b[91mthis function takes 4 arguments but 3 arguments were supplied\u001b[0m"
     ]
    },
    {
     "ename": "Error",
     "evalue": "mismatched types",
     "output_type": "error",
     "traceback": [
      "\u001b[91mmismatched types\u001b[0m"
     ]
    },
    {
     "ename": "Error",
     "evalue": "mismatched types",
     "output_type": "error",
     "traceback": [
      "\u001b[91mmismatched types\u001b[0m"
     ]
    },
    {
     "ename": "Error",
     "evalue": "Some errors have detailed explanations: E0061, E0308.",
     "output_type": "error",
     "traceback": [
      "\u001b[91mSome errors have detailed explanations: E0061, E0308.\u001b[0m"
     ]
    }
   ],
   "source": [
    ":dep ndarray = { version = \"0.15.6\"}\n",
    ":dep plotters = { version = \"0.3.5\", default_features = false, features = [\"evcxr\", \"all_series\"] }\n",
    ":dep graphviz-rust = { version = \"0.9.0\" }\n",
    "\n",
    ":dep base64 = {version = \"0.22.0\"}\n",
    "\n",
    "use ndarray::{Array, Zip};\n",
    "use plotters::prelude::*;\n",
    "\n",
    "use graphviz_rust::dot_generator::*;\n",
    "use graphviz_rust::dot_structures::*;\n",
    "use graphviz_rust::{\n",
    "    exec_dot,\n",
    "    cmd::Format,\n",
    "    printer::{PrinterContext, DotPrinter},\n",
    "};\n",
    "use base64::prelude::*;"
   ]
  },
  {
   "cell_type": "code",
   "execution_count": null,
   "id": "fb5bdb15-0fd5-4832-b7a6-b14150584afe",
   "metadata": {},
   "outputs": [],
   "source": [
    "fn f(x: f64) -> f64 {\n",
    "    3.0*x.powi(2) - 4.0*x + 5.0\n",
    "}"
   ]
  },
  {
   "cell_type": "code",
   "execution_count": null,
   "id": "ff2caffb-51f7-4e02-a530-95032acecf0b",
   "metadata": {},
   "outputs": [],
   "source": [
    "f(3.0)"
   ]
  },
  {
   "cell_type": "code",
   "execution_count": null,
   "id": "9a2f0265-f186-4794-bfd7-cf765b7fcfc9",
   "metadata": {},
   "outputs": [],
   "source": [
    "let xs = Array::range(-5., 5., 0.25);"
   ]
  },
  {
   "cell_type": "code",
   "execution_count": null,
   "id": "cbe27be3-bdc8-40a0-8a20-ae534bdc10d9",
   "metadata": {},
   "outputs": [],
   "source": [
    "let ys = xs.map(|&x| f(x));"
   ]
  },
  {
   "cell_type": "code",
   "execution_count": null,
   "id": "635c6954-e7e0-4400-96b1-a2adfb71ca43",
   "metadata": {},
   "outputs": [],
   "source": [
    "evcxr_figure((680, 480), |root| {\n",
    "    let mut chart = ChartBuilder::on(&root)\n",
    "        .margin(30)\n",
    "        .x_label_area_size(30)\n",
    "        .y_label_area_size(30)\n",
    "        .build_cartesian_2d(-5.0..5.0, 0.0..100.0)?;\n",
    "    chart.configure_mesh().draw()?;\n",
    "    chart.draw_series(LineSeries::new(xs.map(|&x| (x, f(x))), &BLACK))?;\n",
    "    chart.configure_series_labels()\n",
    "        .border_style(&BLACK).draw()?;\n",
    "    root.present()?;\n",
    "    Ok(())\n",
    "})"
   ]
  },
  {
   "cell_type": "code",
   "execution_count": null,
   "id": "5b7b46ab-fe80-4079-889c-db4574b6f787",
   "metadata": {},
   "outputs": [],
   "source": [
    "let h = 0.00000001;\n",
    "let x = 2.0/3.0;\n",
    "(f(x+h) - f(x)) / h"
   ]
  },
  {
   "cell_type": "code",
   "execution_count": null,
   "id": "336d36f3-869e-4d90-a4c4-0bada0295259",
   "metadata": {},
   "outputs": [],
   "source": [
    "let a = 2.0;\n",
    "let b = -3.0;\n",
    "let c = 10.0;\n",
    "let d = a*b +c;\n",
    "d"
   ]
  },
  {
   "cell_type": "code",
   "execution_count": null,
   "id": "70c470ee-5636-4a3b-a425-fe54398d9efa",
   "metadata": {},
   "outputs": [],
   "source": [
    "let h = 0.0001;\n",
    "\n",
    "// Inputs\n",
    "let mut a = 2.0;\n",
    "let mut b = -3.0;\n",
    "let mut c = 10.0;\n",
    "\n",
    "let d1 = a*b + c;\n",
    "c += h;\n",
    "let d2 = a*b + c;\n",
    "\n",
    "println!(\"d1 {d1}\");\n",
    "println!(\"d2 {d2}\");\n",
    "// Normalized by h to get the slope\n",
    "println!(\"slope {}\", (d2 - d1)/h);"
   ]
  },
  {
   "cell_type": "code",
   "execution_count": 46,
   "id": "0a2c46c1-ec2e-42af-822a-c074fabdc2f9",
   "metadata": {},
   "outputs": [],
   "source": [
    ":dep oxgrad = { version = \"0.1.0\", path = \"../../oxgrad\"}\n",
    "use oxgrad::Value;\n",
    "let a: Value<f64> = Value::new(2.0, \"a\");\n",
    "let b: Value<f64> = Value::new(-3.0, \"b\");\n",
    "let c: Value<f64> = Value::new(10.0, \"c\");\n",
    "let mut e: Value<f64> = a*b;\n",
    "e.label = \"e\".to_string();\n",
    "let mut d: Value<f64> = e+c;\n",
    "d.label = \"d\".to_string();\n",
    "let f: Value<f64> = Value::new(-2.0, \"f\");\n",
    "let mut L: Value<f64> = d*f;\n",
    "L.label = \"L\".to_string();"
   ]
  },
  {
   "cell_type": "code",
   "execution_count": null,
   "id": "bd9cb5cb-47bc-4028-94fd-de16ce89e8a9",
   "metadata": {},
   "outputs": [],
   "source": [
    "let mut g = graph!(id!(\"id\");\n",
    "    node!(\"nod\"),\n",
    "    edge!(node_id!(\"a1\") => node_id!(esc \"a2\"))\n",
    ");"
   ]
  },
  {
   "cell_type": "code",
   "execution_count": 11,
   "id": "1842d519-7d82-40d6-80b0-ec22a78e82aa",
   "metadata": {},
   "outputs": [],
   "source": [
    "pub fn print_evcxr(graph: Graph) {\n",
    "    let dot = graph.print(&mut PrinterContext::default());\n",
    "    let format = Format::Svg;\n",
    "    println!(\"EVCXR_BEGIN_CONTENT image/png\");\n",
    "    let graph_svg = exec_dot(dot, vec![graphviz_rust::cmd::CommandArg::Custom(\"-Tpng\".to_string())]).expect(\"Failed\");\n",
    "    println!(\"{}\", BASE64_STANDARD.encode(graph_svg));\n",
    "    println!(\"EVCXR_END_CONTENT\");\n",
    "}"
   ]
  },
  {
   "cell_type": "code",
   "execution_count": null,
   "id": "d7b338bd-32d1-42bf-a3c1-ef787676130a",
   "metadata": {},
   "outputs": [],
   "source": [
    "print_evcxr(g);"
   ]
  },
  {
   "cell_type": "code",
   "execution_count": 47,
   "id": "9de293ee-aff0-4295-9897-0800926f5c21",
   "metadata": {},
   "outputs": [],
   "source": [
    "fn trace<'a, T>(root: &'a Value<T>) -> (Vec<&'a Value<T>>, Vec<(&'a Value<T>, &'a Value<T>)>) \n",
    "where T: std::fmt::Debug + std::cmp::PartialEq,\n",
    "{\n",
    "    let mut nodes = vec![];\n",
    "    let mut edges = vec![];\n",
    "\n",
    "    build(&mut nodes, &mut edges, root);\n",
    "    \n",
    "    (nodes, edges)\n",
    "}\n",
    "\n",
    "fn build<'a, T>(nodes: &mut Vec<&'a Value<T>>, edges: &mut Vec<(&'a Value<T>, &'a Value<T>)>, value: &'a Value<T>)\n",
    "where T: std::fmt::Debug + std::cmp::PartialEq,\n",
    "{\n",
    "    if !nodes.contains(&value) {\n",
    "        nodes.push(value);\n",
    "\n",
    "        for child in value.prev.iter() {\n",
    "            edges.push((&child, value));\n",
    "            build(nodes, edges, &child);\n",
    "        }\n",
    "    }\n",
    "}"
   ]
  },
  {
   "cell_type": "code",
   "execution_count": 48,
   "id": "36f31a39-0587-423d-93ad-bd0758de56b6",
   "metadata": {},
   "outputs": [],
   "source": [
    "fn draw_dot_local<'a, T>(root: &'a Value<T>)\n",
    "where T: std::fmt::Debug + std::cmp::PartialEq + std::ops::Add + std::ops::Mul,\n",
    "{\n",
    "    // Create the graph left to write\n",
    "    let mut graph = graph!(id!(\"oxgrad\"); attr!(\"rankdir\", \"LR\"));\n",
    "    let (nodes, edges) = trace(root);\n",
    "    println!(\"{:#?}\", nodes);\n",
    "    println!(\"{:#?}\", edges);\n",
    "\n",
    "    for n in nodes.iter() {\n",
    "        // Add a node for every value in the graph\n",
    "        let n_id = format!(\"{}\", n.id);\n",
    "\n",
    "        let _dot_node = graph.add_stmt(\n",
    "            node!(&n_id;\n",
    "                attr!(\"shape\", \"record\"),\n",
    "                attr!(\"label\", esc &format!(\"{} | data {:.4?}\", n.label, n.data))\n",
    "            ).into());\n",
    "        println!(\"Node id: {n_id}\");\n",
    "        if let Some(op) = &n.op {\n",
    "            let op_id = format!(\"{} + {}\", n.id, n.op_id());\n",
    "            // If this current value is the result of an operation, create a node for the operation\n",
    "            graph.add_stmt(node!(esc op_id; attr!(\"label\", esc op.to_string())).into());\n",
    "            println!(\"Op id: {op_id} {op:?}\");\n",
    "            // And connect the 2 nodes\n",
    "            graph.add_stmt(edge!(node_id!(esc op_id) => node_id!(n_id)).into());\n",
    "        }\n",
    "    }\n",
    "\n",
    "    // For each of the nodes in the found edges\n",
    "    for (n1, n2) in edges.iter() {\n",
    "        let n1_id = format!(\"{}\", n1.id);\n",
    "        let n2_op_id = format!(\"{} + {}\", n2.id, n2.op_id());\n",
    "        // Connect n1 to the operation node of n2\n",
    "        graph.add_stmt(edge!(node_id!(n1_id) => node_id!(esc n2_op_id)).into());\n",
    "    }\n",
    "    print_evcxr(graph);\n",
    "}"
   ]
  },
  {
   "cell_type": "code",
   "execution_count": 50,
   "id": "40aa08b5-b69e-489b-85c2-99f527364e89",
   "metadata": {},
   "outputs": [
    {
     "name": "stdout",
     "output_type": "stream",
     "text": [
      "[\n",
      "    Value(data=-8.0),\n",
      "    Value(data=4.0),\n",
      "    Value(data=-6.0),\n",
      "    Value(data=2.0),\n",
      "    Value(data=-3.0),\n",
      "    Value(data=10.0),\n",
      "    Value(data=-2.0),\n",
      "]\n",
      "[\n",
      "    (\n",
      "        Value(data=4.0),\n",
      "        Value(data=-8.0),\n",
      "    ),\n",
      "    (\n",
      "        Value(data=-6.0),\n",
      "        Value(data=4.0),\n",
      "    ),\n",
      "    (\n",
      "        Value(data=2.0),\n",
      "        Value(data=-6.0),\n",
      "    ),\n",
      "    (\n",
      "        Value(data=-3.0),\n",
      "        Value(data=-6.0),\n",
      "    ),\n",
      "    (\n",
      "        Value(data=10.0),\n",
      "        Value(data=4.0),\n",
      "    ),\n",
      "    (\n",
      "        Value(data=-2.0),\n",
      "        Value(data=-8.0),\n",
      "    ),\n",
      "]\n",
      "Node id: 6\n",
      "Op id: 6 + 2 *\n",
      "Node id: 4\n",
      "Op id: 4 + 1 +\n",
      "Node id: 3\n",
      "Op id: 3 + 2 *\n",
      "Node id: 0\n",
      "Node id: 1\n",
      "Node id: 2\n",
      "Node id: 5\n"
     ]
    },
    {
     "data": {
      "image/png": "[encoded data removed]"
     },
     "execution_count": 50,
     "metadata": {},
     "output_type": "execute_result"
    }
   ],
   "source": [
    "draw_dot_local(&L);"
   ]
  },
  {
   "cell_type": "code",
   "execution_count": null,
   "id": "42cf1db9-bf75-4844-9c33-e411db95d07b",
   "metadata": {},
   "outputs": [],
   "source": []
  }
 ],
 "metadata": {
  "kernelspec": {
   "display_name": "Rust",
   "language": "rust",
   "name": "rust"
  },
  "language_info": {
   "codemirror_mode": "rust",
   "file_extension": ".rs",
   "mimetype": "text/rust",
   "name": "Rust",
   "pygment_lexer": "rust",
   "version": ""
  }
 },
 "nbformat": 4,
 "nbformat_minor": 5
}
