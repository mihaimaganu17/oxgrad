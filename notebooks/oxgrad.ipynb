{
 "cells": [
  {
   "cell_type": "code",
   "execution_count": 2,
   "id": "8ac2601f-c5ed-42d0-b344-cdbc940fbe5a",
   "metadata": {},
   "outputs": [],
   "source": [
    ":dep ndarray = { version = \"0.15.6\"}\n",
    ":dep plotters = { version = \"0.3.5\", default_features = false, features = [\"evcxr\", \"all_series\"] }\n",
    ":dep graphviz-rust = { version = \"0.9.0\" }\n",
    ":dep petgraph = \"0.6.4\"\n",
    ":dep petgraph-evcxr = \"*\"\n",
    "\n",
    "use ndarray::{Array, Zip};\n",
    "use plotters::prelude::*;\n",
    "/*\n",
    "use graphviz_rust::dot_generator::*;\n",
    "use graphviz_rust::dot_structures::*;\n",
    "use graphviz_rust \n",
    "    exec_dot,\n",
    "    cmd::Format,\n",
    "    printer::{PrinterContext, DotPrinter},\n",
    "};\n",
    "*/\n",
    "\n",
    "extern crate petgraph;\n",
    "use petgraph::graph::Graph;\n",
    "use petgraph::dot::Dot;\n",
    "use petgraph_evcxr::{draw_graph, draw_graph_with_attr_getters, draw_dot};"
   ]
  },
  {
   "cell_type": "code",
   "execution_count": null,
   "id": "fb5bdb15-0fd5-4832-b7a6-b14150584afe",
   "metadata": {},
   "outputs": [],
   "source": [
    "fn f(x: f64) -> f64 {\n",
    "    3.0*x.powi(2) - 4.0*x + 5.0\n",
    "}"
   ]
  },
  {
   "cell_type": "code",
   "execution_count": null,
   "id": "ff2caffb-51f7-4e02-a530-95032acecf0b",
   "metadata": {},
   "outputs": [],
   "source": [
    "f(3.0)"
   ]
  },
  {
   "cell_type": "code",
   "execution_count": null,
   "id": "5fde9e56-b4b2-4c7b-b59a-12583bdbb6ed",
   "metadata": {},
   "outputs": [],
   "source": []
  },
  {
   "cell_type": "code",
   "execution_count": null,
   "id": "9a2f0265-f186-4794-bfd7-cf765b7fcfc9",
   "metadata": {},
   "outputs": [],
   "source": [
    "let xs = Array::range(-5., 5., 0.25);"
   ]
  },
  {
   "cell_type": "code",
   "execution_count": null,
   "id": "cbe27be3-bdc8-40a0-8a20-ae534bdc10d9",
   "metadata": {},
   "outputs": [],
   "source": [
    "let ys = xs.map(|&x| f(x));"
   ]
  },
  {
   "cell_type": "code",
   "execution_count": null,
   "id": "67ec27c8-7501-40e7-aab5-bd2e89ff16cb",
   "metadata": {},
   "outputs": [],
   "source": [
    "ys"
   ]
  },
  {
   "cell_type": "code",
   "execution_count": null,
   "id": "635c6954-e7e0-4400-96b1-a2adfb71ca43",
   "metadata": {},
   "outputs": [],
   "source": [
    "evcxr_figure((680, 480), |root| {\n",
    "    let mut chart = ChartBuilder::on(&root)\n",
    "        .margin(30)\n",
    "        .x_label_area_size(30)\n",
    "        .y_label_area_size(30)\n",
    "        .build_cartesian_2d(-5.0..5.0, 0.0..100.0)?;\n",
    "    chart.configure_mesh().draw()?;\n",
    "    chart.draw_series(LineSeries::new(xs.map(|&x| (x, f(x))), &BLACK))?;\n",
    "    chart.configure_series_labels()\n",
    "        .border_style(&BLACK).draw()?;\n",
    "    root.present()?;\n",
    "    Ok(())\n",
    "})"
   ]
  },
  {
   "cell_type": "code",
   "execution_count": null,
   "id": "5b7b46ab-fe80-4079-889c-db4574b6f787",
   "metadata": {},
   "outputs": [],
   "source": [
    "let h = 0.00000001;\n",
    "let x = 2.0/3.0;\n",
    "(f(x+h) - f(x)) / h"
   ]
  },
  {
   "cell_type": "code",
   "execution_count": null,
   "id": "336d36f3-869e-4d90-a4c4-0bada0295259",
   "metadata": {},
   "outputs": [],
   "source": [
    "let a = 2.0;\n",
    "let b = -3.0;\n",
    "let c = 10.0;\n",
    "let d = a*b +c;\n",
    "d"
   ]
  },
  {
   "cell_type": "code",
   "execution_count": null,
   "id": "70c470ee-5636-4a3b-a425-fe54398d9efa",
   "metadata": {},
   "outputs": [],
   "source": [
    "let h = 0.0001;\n",
    "\n",
    "// Inputs\n",
    "let mut a = 2.0;\n",
    "let mut b = -3.0;\n",
    "let mut c = 10.0;\n",
    "\n",
    "let d1 = a*b + c;\n",
    "c += h;\n",
    "let d2 = a*b + c;\n",
    "\n",
    "println!(\"d1 {d1}\");\n",
    "println!(\"d2 {d2}\");\n",
    "// Normalized by h to get the slope\n",
    "println!(\"slope {}\", (d2 - d1)/h);"
   ]
  },
  {
   "cell_type": "code",
   "execution_count": null,
   "id": "04c12e55-ac65-4ecf-bb4f-20955b2f4dcd",
   "metadata": {},
   "outputs": [],
   "source": [
    ":dep oxgrad = { version = \"0.1.0\", path = \"../../oxgrad\"}\n",
    "use oxgrad::Value;"
   ]
  },
  {
   "cell_type": "code",
   "execution_count": null,
   "id": "0a2c46c1-ec2e-42af-822a-c074fabdc2f9",
   "metadata": {},
   "outputs": [],
   "source": [
    "let a: Value<f64> = Value::new(2.0);\n",
    "let b: Value<f64> = Value::new(-3.0);\n",
    "let c: Value<f64> = Value::new(10.0);\n",
    "let d: Value<f64> = a*b+c;\n",
    "println!(\"{:?}\", d);"
   ]
  },
  {
   "cell_type": "code",
   "execution_count": null,
   "id": "bd9cb5cb-47bc-4028-94fd-de16ce89e8a9",
   "metadata": {},
   "outputs": [],
   "source": [
    "let mut g = graph!(id!(\"id\");\n",
    "    node!(\"nod\"),\n",
    "    edge!(node_id!(\"a1\") => node_id!(esc \"a2\"))\n",
    ");"
   ]
  },
  {
   "cell_type": "code",
   "execution_count": null,
   "id": "1842d519-7d82-40d6-80b0-ec22a78e82aa",
   "metadata": {},
   "outputs": [],
   "source": [
    "let dot = g.print(&mut PrinterContext::default());\n",
    "let format = Format::Svg;\n",
    "let graph_svg = exec_dot(dot, vec![format.into()]).unwrap();"
   ]
  },
  {
   "cell_type": "code",
   "execution_count": null,
   "id": "d7b338bd-32d1-42bf-a3c1-ef787676130a",
   "metadata": {},
   "outputs": [],
   "source": [
    "println!(\"{}\", dot);"
   ]
  },
  {
   "cell_type": "code",
   "execution_count": 3,
   "id": "bf99e005-d660-4844-8c40-4aaa16e8829b",
   "metadata": {},
   "outputs": [],
   "source": [
    "use petgraph::Graph;\n",
    "\n",
    "let mut deps = Graph::<&str, &str>::new();\n",
    "let pg = deps.add_node(\"petgraph\");\n",
    "let fb = deps.add_node(\"fixedbitset\");\n",
    "let qc = deps.add_node(\"quickcheck\");\n",
    "let rand = deps.add_node(\"rand\");\n",
    "let libc = deps.add_node(\"libc\");\n",
    "deps.extend_with_edges(&[\n",
    "    (pg, fb), (pg, qc),\n",
    "    (qc, rand), (rand, libc), (qc, libc),\n",
    "]);"
   ]
  },
  {
   "cell_type": "code",
   "execution_count": null,
   "id": "32389c39-6333-4a4c-964d-5a2d797103ed",
   "metadata": {},
   "outputs": [
    {
     "data": {
      "image/png": "[encoded data removed]"
     },
     "execution_count": 5,
     "metadata": {},
     "output_type": "execute_result"
    }
   ],
   "source": [
    "draw_graph(&deps);"
   ]
  },
  {
   "cell_type": "code",
   "execution_count": null,
   "id": "9de293ee-aff0-4295-9897-0800926f5c21",
   "metadata": {},
   "outputs": [],
   "source": []
  }
 ],
 "metadata": {
  "kernelspec": {
   "display_name": "Rust",
   "language": "rust",
   "name": "rust"
  },
  "language_info": {
   "codemirror_mode": "rust",
   "file_extension": ".rs",
   "mimetype": "text/rust",
   "name": "Rust",
   "pygment_lexer": "rust",
   "version": ""
  }
 },
 "nbformat": 4,
 "nbformat_minor": 5
}
